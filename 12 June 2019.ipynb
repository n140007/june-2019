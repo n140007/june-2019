{
 "cells": [
  {
   "cell_type": "markdown",
   "metadata": {},
   "source": [
    "# Problem Solving and Programming\n",
    "#### Date 12 June 2019\n",
    "#### Day Objectives\n",
    "- String Slicing\n",
    "- Functions in Python\n",
    "- Basic Problems related to conditional statements using functions\n",
    "- Iteration in Python "
   ]
  },
  {
   "cell_type": "code",
   "execution_count": null,
   "metadata": {},
   "outputs": [],
   "source": []
  },
  {
   "cell_type": "markdown",
   "metadata": {},
   "source": [
    "## String Slicing"
   ]
  },
  {
   "cell_type": "code",
   "execution_count": 48,
   "metadata": {},
   "outputs": [
    {
     "data": {
      "text/plain": [
       "'h'"
      ]
     },
     "execution_count": 48,
     "metadata": {},
     "output_type": "execute_result"
    }
   ],
   "source": [
    "m1 = 'Python'\n",
    "#m1[len(m1)-1] ## to print last character or directly give \n",
    "m1[-1]\n",
    "m1[-6]#to access the firest character or directly give\n",
    "m1[4:5]\n",
    "m1[-2] # accessing the penultimate character of a string\n",
    "m1[0:2] # here 2 is exclusive (so, 2 is not going to print) and 0 is inclusive \n",
    "m1[4:] # when will be string is \"6\" letters only then it is useful # it accessing all characters 5th character (here 4th character means 5th character) to end of the string\n",
    "m1[-2:] # accessing the last two characters in astring, it will be applicable string is of any legth\n",
    "# accessing all characters expect first and last character\n",
    "# m1[1:12] 0r  # it will be useful when length is known \n",
    "m1[1:-1] # it will be useful when length is not known\n",
    "# accessing the middle charcter in a string\n",
    "m1[len(m1)// 2] # here //  represents double divider in python"
   ]
  },
  {
   "cell_type": "code",
   "execution_count": 33,
   "metadata": {},
   "outputs": [
    {
     "data": {
      "text/plain": [
       "'nohtyp'"
      ]
     },
     "execution_count": 33,
     "metadata": {},
     "output_type": "execute_result"
    }
   ],
   "source": [
    "# Reverse of a string\n",
    "m1 = \"python\"\n",
    "m1[-1::-1]\n",
    "m1[-1:-3:-1]\n",
    "m1[-1:-4:-1]\n",
    "m1[-1:-5:-1]\n",
    "m1[-1:-6:-1]\n",
    "m1[-1:-7:-1]\n",
    "m1[-1:-8:-1]\n",
    "# Reverse the middle two characters in an even length string\n",
    "m1[-3:1:-1]\n",
    "m1[len(m1)//2:len(m1)//2-2:-1]\n",
    "# accessing alternate characters in a string\n",
    "#,\"Python\" -> \"Pto\"\n",
    "m1[::2]\n",
    "# Accessing alternate characters of a string in reverse order\n",
    "# \"Python\" -> \"nhy\"\n",
    "m1[::-2]\n",
    "m1[::-1]"
   ]
  },
  {
   "cell_type": "markdown",
   "metadata": {},
   "source": [
    "## Functions"
   ]
  },
  {
   "cell_type": "code",
   "execution_count": 138,
   "metadata": {},
   "outputs": [
    {
     "data": {
      "text/plain": [
       "'nohtyP'"
      ]
     },
     "execution_count": 138,
     "metadata": {},
     "output_type": "execute_result"
    }
   ],
   "source": [
    "# Functions to reverse a string\n",
    "def reverseString(s):\n",
    "    return s[::-1]\n",
    "reverseString(\"Python\")\n",
    "    "
   ]
  },
  {
   "cell_type": "code",
   "execution_count": 149,
   "metadata": {},
   "outputs": [
    {
     "data": {
      "text/plain": [
       "True"
      ]
     },
     "execution_count": 149,
     "metadata": {},
     "output_type": "execute_result"
    }
   ],
   "source": [
    "# Function to check if a string is a Palindrome\n",
    "def palindrome(s):\n",
    "    if s == s[::-1]:\n",
    "        return True\n",
    "    else:\n",
    "        return False \n",
    "palindrome(\"\")"
   ]
  },
  {
   "cell_type": "code",
   "execution_count": 154,
   "metadata": {},
   "outputs": [
    {
     "data": {
      "text/plain": [
       "True"
      ]
     },
     "execution_count": 154,
     "metadata": {},
     "output_type": "execute_result"
    }
   ],
   "source": [
    "# Function to check if a given year is a leap year\n",
    "def isLeapYear(year):\n",
    "    if year%400==0 or(year%100!=0 and year%4==0):\n",
    "        return True\n",
    "    else:\n",
    "        return False\n",
    "isLeapYear(2020)"
   ]
  },
  {
   "cell_type": "code",
   "execution_count": 170,
   "metadata": {},
   "outputs": [
    {
     "data": {
      "text/plain": [
       "7"
      ]
     },
     "execution_count": 170,
     "metadata": {},
     "output_type": "execute_result"
    }
   ],
   "source": [
    "# Function to Count the digits in a given number\n",
    "def isNumber(number):\n",
    "    return len(str(number)) ## don't use print in the function\n",
    "isNumber(5853829)\n",
    "\n",
    "    "
   ]
  },
  {
   "cell_type": "code",
   "execution_count": 161,
   "metadata": {},
   "outputs": [
    {
     "data": {
      "text/plain": [
       "50"
      ]
     },
     "execution_count": 161,
     "metadata": {},
     "output_type": "execute_result"
    }
   ],
   "source": [
    "# Function to identify the greatest of 4 numbers\n",
    "\n",
    "def greatest4(n1, n2, n3, n4 ):\n",
    "    if n1 > n2 and n1 > n2 and n1 >n3 and n4:\n",
    "        return n1\n",
    "    elif  n2>n3 and n2>n4:\n",
    "         return n2\n",
    "    elif n3>n4:\n",
    "         return n3\n",
    "    else: \n",
    "        return n4\n",
    "greatest4(20,30,40,50)\n",
    "\n",
    "    "
   ]
  },
  {
   "cell_type": "markdown",
   "metadata": {},
   "source": [
    "## Iteration\n",
    "- for\n",
    "- while"
   ]
  },
  {
   "cell_type": "code",
   "execution_count": 171,
   "metadata": {},
   "outputs": [
    {
     "name": "stdout",
     "output_type": "stream",
     "text": [
      "1 2 3 4 5 6 7 8 9 10 \n",
      "1 2 3 4 5 6 7 8 9 10 11 12 13 14 15 16 17 18 19 20 21 22 23 24 25 26 27 28 29 30 31 32 33 34 35 36 37 38 39 40 \n"
     ]
    }
   ],
   "source": [
    "# Function to print n natural numbers\n",
    "def printNnaturalNumbers(n):\n",
    "    for counter in range(1, n+1):\n",
    "        print(counter, end=\" \")\n",
    "    print()   \n",
    "    return\n",
    "printNnaturalNumbers(10)\n",
    "printNnaturalNumbers(40)"
   ]
  },
  {
   "cell_type": "code",
   "execution_count": 175,
   "metadata": {},
   "outputs": [
    {
     "name": "stdout",
     "output_type": "stream",
     "text": [
      "1 2 3 4 5 6 7 8 9 10 "
     ]
    }
   ],
   "source": [
    "# Function to print n Natural numbers using while loop\n",
    "def nNaturalNumbers(n):\n",
    "    counter = 1\n",
    "    while counter <= n:\n",
    "        print(counter, end=\" \")\n",
    "        counter = counter + 1\n",
    "    return\n",
    "nNaturalNumbers(10)\n",
    "     "
   ]
  },
  {
   "cell_type": "code",
   "execution_count": 190,
   "metadata": {},
   "outputs": [
    {
     "name": "stdout",
     "output_type": "stream",
     "text": [
      "enter lower bound10\n",
      "enter upperbound20\n",
      "12 18 "
     ]
    }
   ],
   "source": [
    "# Function to print all numbers divisible by 6 and not a factor of 100 in a given range (lb, ub) inclusive\n",
    "def isAllNumbers(lb, ub):\n",
    "    for i in range(lb, ub+1):\n",
    "        if i%6==0 and i%100!=0:\n",
    "            print (i, end=\" \")\n",
    "lb = int(input(\"enter lower bound\"))\n",
    "ub = int(input(\"enter upperbound\"))\n",
    "isAllNumbers(lb, ub)\n"
   ]
  },
  {
   "cell_type": "code",
   "execution_count": 196,
   "metadata": {},
   "outputs": [
    {
     "name": "stdout",
     "output_type": "stream",
     "text": [
      "enter lower bound20\n",
      "enter upperbound40\n",
      "avg 336600\n"
     ]
    }
   ],
   "source": [
    "# Function to find the average of cubes of all even numbers in a given range (lb, ub) inclusive\n",
    "def ave(lb,ub):\n",
    "    avg = 0\n",
    "    for i in range(lb, ub+1):\n",
    "        if i%2==0:\n",
    "            avg = avg+i**3;\n",
    "    print(\"avg\", avg)\n",
    "lb = int(input(\"enter lower bound\"))\n",
    "ub = int(input(\"enter upperbound\"))\n",
    "ave(lb,ub)"
   ]
  },
  {
   "cell_type": "code",
   "execution_count": 2,
   "metadata": {
    "scrolled": true
   },
   "outputs": [
    {
     "name": "stdout",
     "output_type": "stream",
     "text": [
      "1 2 4 "
     ]
    },
    {
     "data": {
      "text/plain": [
       "4"
      ]
     },
     "execution_count": 2,
     "metadata": {},
     "output_type": "execute_result"
    }
   ],
   "source": [
    "# Function to generate the list of factors for a given number\n",
    "# 12 -> 1 2 3 4 6 12\n",
    "def factorsList(n):\n",
    "    for i in range(1, n+2):\n",
    "        if n%i==0:\n",
    "            print(i, end=\" \")\n",
    "            \n",
    "    return(n)\n",
    "factorsList(4)"
   ]
  },
  {
   "cell_type": "code",
   "execution_count": 3,
   "metadata": {},
   "outputs": [
    {
     "data": {
      "text/plain": [
       "24"
      ]
     },
     "execution_count": 3,
     "metadata": {},
     "output_type": "execute_result"
    }
   ],
   "source": [
    "# Function to check factors of a given number\n",
    "def factorial(n):\n",
    "    fact = 1\n",
    "    for i in range(2, n+1):\n",
    "        fact = fact * i\n",
    "    return fact\n",
    "factorial(4)"
   ]
  },
  {
   "cell_type": "code",
   "execution_count": 211,
   "metadata": {},
   "outputs": [
    {
     "data": {
      "text/plain": [
       "False"
      ]
     },
     "execution_count": 211,
     "metadata": {},
     "output_type": "execute_result"
    }
   ],
   "source": [
    "# Function to generate N prime numbers\n",
    "def isPrime(n):\n",
    "    flag = True\n",
    "    for i in range(2, n//2+1):\n",
    "        if(n%i==0):\n",
    "            flag=False\n",
    "            return flag\n",
    "    return flag\n",
    "isPrime(9)\n"
   ]
  },
  {
   "cell_type": "code",
   "execution_count": 212,
   "metadata": {},
   "outputs": [
    {
     "data": {
      "text/plain": [
       "12.9"
      ]
     },
     "execution_count": 212,
     "metadata": {},
     "output_type": "execute_result"
    }
   ],
   "source": [
    "# Function to calculate the average first N prime numbers\n",
    "def avgNPrimes(n):\n",
    "    primeCount = 0\n",
    "    sum = 0\n",
    "    seqCount = 2\n",
    "    while(primeCount < n):\n",
    "        if isPrime(seqCount):\n",
    "            primeCount += 1\n",
    "            sum += seqCount\n",
    "        seqCount += 1\n",
    "    return sum/n\n",
    "avgNPrimes(10)"
   ]
  },
  {
   "cell_type": "code",
   "execution_count": 5,
   "metadata": {},
   "outputs": [
    {
     "name": "stdout",
     "output_type": "stream",
     "text": [
      "1 2 5 10 10 1 11 11 1 2 3 4 6 12 12 1 13 13 1 2 7 14 14 1 3 5 15 15 1 2 4 8 16 16 1 17 17 1 2 3 6 9 18 18 1 19 19 1 2 4 5 10 20 20 "
     ]
    }
   ],
   "source": [
    "# Function to generate all perfect numbers in a given range\n",
    "def isPerfect(n):\n",
    "    if factorsList(n) == n:\n",
    "        return True\n",
    "    return False\n",
    "def generatePerfect(lb, ub):\n",
    "    for i in range(lb, ub+1):\n",
    "        if isPerfect(i):\n",
    "            print(i, end=\" \")\n",
    "    return\n",
    "generatePerfect(10,20)"
   ]
  },
  {
   "cell_type": "markdown",
   "metadata": {},
   "source": [
    "### Problem Statement\n",
    "- Function to generate all perfect numbers in a given range\n",
    "- Perfect number - Sum of all its factors is equal to the number itself\n",
    "- 6 -1, 2, 3\n",
    "- lb, ub"
   ]
  },
  {
   "cell_type": "code",
   "execution_count": 102,
   "metadata": {},
   "outputs": [
    {
     "data": {
      "text/plain": [
       "8.25"
      ]
     },
     "execution_count": 102,
     "metadata": {},
     "output_type": "execute_result"
    }
   ],
   "source": [
    "# Function to calculate average of all factorials in a given range \n",
    "def factorial(n):\n",
    "    fact = 1\n",
    "    sum = 0\n",
    "    for i in range(1, n+1):\n",
    "        fact = fact * i\n",
    "        sum = sum + fact\n",
    "    return sum/n\n",
    "factorial(4)"
   ]
  },
  {
   "cell_type": "code",
   "execution_count": 30,
   "metadata": {},
   "outputs": [
    {
     "name": "stdout",
     "output_type": "stream",
     "text": [
      "500 502 504 506 508 510 512 514 516 518 520 522 524 526 528 530 532 534 536 538 540 542 544 546 548 "
     ]
    }
   ],
   "source": [
    "# Function to print the alternate values in a range\n",
    "# [500, 550] -> 500, 502, 504 ....... 550\n",
    "# (500, 550) -> 501, 503, 505 .......549\n",
    "#range (500, 550) \n",
    "# All set based functions in Python have start value is inclusive and end value is exclusive\n",
    "def alternateValues(lb, ub):\n",
    "    for value in range(lb, ub+1, 2):\n",
    "        print (value, end = \" \")\n",
    "    return\n",
    "alternateValues(500, 549)\n",
    "    "
   ]
  },
  {
   "cell_type": "code",
   "execution_count": 54,
   "metadata": {},
   "outputs": [
    {
     "name": "stdout",
     "output_type": "stream",
     "text": [
      "549 548 547 546 545 544 543 542 541 540 539 538 537 536 535 534 533 532 531 530 529 528 527 526 525 524 523 522 521 520 519 518 517 516 515 514 513 512 511 510 509 508 507 506 505 504 503 502 501 500 "
     ]
    }
   ],
   "source": [
    "# Function to print reverse of given range in the same line\n",
    "def reverseValues(lb, ub):\n",
    "    for value in range(ub, lb-1, -1):\n",
    "        print(value, end = \" \")\n",
    "    return\n",
    "reverseValues(500, 549)"
   ]
  },
  {
   "cell_type": "code",
   "execution_count": 62,
   "metadata": {},
   "outputs": [
    {
     "name": "stdout",
     "output_type": "stream",
     "text": [
      "9 7 5 3 1 "
     ]
    }
   ],
   "source": [
    "# Function to print odd numbers in reverse order\n",
    "def reverseValues(lb, ub):\n",
    "    for value in range(ub, lb-1, -1):\n",
    "        if(value%2==1):\n",
    "            print(value, end = \" \")\n",
    "    return\n",
    "reverseValues(1, 10)"
   ]
  },
  {
   "cell_type": "code",
   "execution_count": 74,
   "metadata": {},
   "outputs": [
    {
     "data": {
      "text/plain": [
       "15150"
      ]
     },
     "execution_count": 74,
     "metadata": {},
     "output_type": "execute_result"
    }
   ],
   "source": [
    "# Function to calculate the sum of number in a range\n",
    "def sumofNumbers(lb, ub):\n",
    "    sum = 0\n",
    "    for number in range(lb, ub+1):\n",
    "        sum = sum + number\n",
    "    return sum\n",
    "sumofNumbers(100, 200)"
   ]
  },
  {
   "cell_type": "code",
   "execution_count": 104,
   "metadata": {},
   "outputs": [
    {
     "data": {
      "text/plain": [
       "3000.0"
      ]
     },
     "execution_count": 104,
     "metadata": {},
     "output_type": "execute_result"
    }
   ],
   "source": [
    "# Function to calculate the average for a given range\n",
    "def avg(lb, ub):\n",
    "    sum=0\n",
    "    for i in range(lb, ub+1):\n",
    "        sum = sum + i\n",
    "    return sum/(ub-lb+1)\n",
    "avg(1000,5000)"
   ]
  },
  {
   "cell_type": "code",
   "execution_count": null,
   "metadata": {},
   "outputs": [],
   "source": [
    "# Function to generate n odd armstrong numbers in a given range\n",
    "def Noddarmstrong(lb, ub)\n",
    "    "
   ]
  },
  {
   "cell_type": "code",
   "execution_count": 120,
   "metadata": {},
   "outputs": [
    {
     "name": "stdout",
     "output_type": "stream",
     "text": [
      "2000 2004 2008 2012 2016 2020 "
     ]
    }
   ],
   "source": [
    "# Function to generate all leap years in a given time-peroid\n",
    "# 2000 - 2020 -> 2000 2004 2008 2012 2016 2020\n",
    "def isLeapYear(year): # To check if a given year is a leap year\n",
    "    if year%400==0 or (year%100!=0 and year%4==0):\n",
    "        return True\n",
    "    else:\n",
    "        return False\n",
    "def generateLeapYears(startyear, endyear):\n",
    "    for year in range(startyear, endyear+1):\n",
    "        if isLeapYear(year):\n",
    "                print(year, end=\" \")\n",
    "    return\n",
    "generateLeapYears(2000, 2020)\n",
    "\n",
    " "
   ]
  },
  {
   "cell_type": "code",
   "execution_count": 211,
   "metadata": {},
   "outputs": [
    {
     "data": {
      "text/plain": [
       "7671"
      ]
     },
     "execution_count": 211,
     "metadata": {},
     "output_type": "execute_result"
    }
   ],
   "source": [
    "# Function to generate  no.of days in a given time period using leapyear logic\n",
    "# For every year in the given time period, if the year is not a leap year --> add 365 to sum, if it is a leap year --> add 365 to sum\n",
    "def numberOfDays(startyear, endyear): # To check if a given year is a leap year\n",
    "    sum = 0\n",
    "    for year in range(startyear, endyear+1):\n",
    "        if isLeapYear(year):\n",
    "            sum = sum + 366\n",
    "        else:\n",
    "            sum = sum + 365\n",
    "    return sum          \n",
    "numberOfDays(2000, 2020)\n",
    "  "
   ]
  },
  {
   "cell_type": "code",
   "execution_count": 213,
   "metadata": {},
   "outputs": [
    {
     "data": {
      "text/plain": [
       "205248"
      ]
     },
     "execution_count": 213,
     "metadata": {},
     "output_type": "execute_result"
    }
   ],
   "source": [
    "# Function to calculate a number of hours for a given period of time\n",
    "# number of hours (11, 1975, 3, 1999)\n",
    "# number of hours (5, 2019, 6, 2019)\n",
    "# 2, 2016, 6, 2019\n",
    "# [all days from feb 2016 to dec 2016,\n",
    "# .   all days for years between 2016+1 and 2019-1,\n",
    "#         all days for jan to june 2019 ]\n",
    "# NO of hours = 24 * no of days\n",
    "# 3- Steps\n",
    "   # 1. Start month year to end of year - calculate no of days\n",
    "    # 2. Calculate days for all years between start year\n",
    "          # 2017, 2018 - 365 * no of years\n",
    "    # 3. Calculate days from jan to end month year \n",
    "# Excluding Feb\n",
    "# First 6 months - 1, 3, 4, 5, 6, 7\n",
    "                   # All odd months have 31 days\n",
    "                   # All even months have 30 days\n",
    "# Last 6 months - 8, 9, 10, 11, 12\n",
    "                   # All odd months have 30 days\n",
    "                   # All even months have 31 days\n",
    "# 31 days - (month <= 7 and month % 2!=0 and month ! =2 )|| (month >= 8 and month % 2==0)\n",
    "#              return 31\n",
    "#               else\n",
    "#              return 30\n",
    "def numberOfDaysMonth(month, year):\n",
    "        if month == 2:\n",
    "            if isLeapYear(year):\n",
    "                return 29\n",
    "            return 28\n",
    "        elif (month <= 7 and month % 2!=0) or (month >=8 and month % 2==0):\n",
    "                return 31\n",
    "        else:\n",
    "             return 30\n",
    "def daysInStartYear(startmonth, startyear):\n",
    "    days=0\n",
    "    for month in range(startmonth, 13):\n",
    "        days = days + numberOfDaysMonth(month, startyear)\n",
    "    return days\n",
    "def daysInEndYear(endmonth, endyear):\n",
    "    days = 0\n",
    "    for month in range(1, endmonth+1):\n",
    "        days = days + numberOfDaysMonth(month, endyear)\n",
    "    return days\n",
    "def numberOfHours(startmonth, startyear, endmonth, endyear):\n",
    "    days = 0\n",
    "    days = days + daysInStartYear(startmonth, startyear)\n",
    "    days = days + daysInEndYear(endmonth, endyear)\n",
    "    if endyear - startyear == 1:\n",
    "        days = days + numberOfDays(startyear+1, startyear+1)\n",
    "    elif endyear - startyear > 2:\n",
    "        days = days + numberOfDays(startyear+1, endyear-1)\n",
    "    return 24 * days\n",
    "numberOfHours(11, 1975, 3, 1999)\n",
    "\n"
   ]
  },
  {
   "cell_type": "code",
   "execution_count": null,
   "metadata": {},
   "outputs": [],
   "source": []
  },
  {
   "cell_type": "code",
   "execution_count": null,
   "metadata": {},
   "outputs": [],
   "source": []
  }
 ],
 "metadata": {
  "kernelspec": {
   "display_name": "Python 3",
   "language": "python",
   "name": "python3"
  },
  "language_info": {
   "codemirror_mode": {
    "name": "ipython",
    "version": 3
   },
   "file_extension": ".py",
   "mimetype": "text/x-python",
   "name": "python",
   "nbconvert_exporter": "python",
   "pygments_lexer": "ipython3",
   "version": "3.7.3"
  }
 },
 "nbformat": 4,
 "nbformat_minor": 2
}
