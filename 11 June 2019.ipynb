{
 "cells": [
  {
   "cell_type": "markdown",
   "metadata": {},
   "source": [
    "## Markdown Basics\n",
    "* **Bold**\n",
    "* *Italic*\n",
    "* ***IB***\n",
    "* Normal text\n",
    "  * Sublist 1\n",
    "  * Sublist 2\n",
    "\n",
    "\n",
    "> 1. ordered list element 1\n",
    "> 2. ordered list element 2\n",
    "\n",
    "\n",
    "- [x] Option 1\n",
    "- [x] Option 2\n",
    "- [x] Option 3\n",
    "\n",
    "\n",
    "\n",
    "[Beach](beach.png)\n",
    "[Dog](dog.png)\n",
    "\n",
    "<img src=\"dog.png\" style=\"float:left\">\n",
    "  \n",
    "  `printf(\"hello markdown\")`\n",
    "  \n",
    "  \n",
    "  [1]: http://google.com/        \"Google\"\n",
    "  [2]: http://search.yahoo.com/  \"Yahoo Search\"\n",
    "  [3]: http://search.msn.com/    \"MSN Search\"\n",
    "  \n",
    "   <https://google.com>\n",
    "  \n",
    "  Markdown@google.com\n",
    "\n",
    "\n",
    "\n",
    "\n",
    "\n"
   ]
  },
  {
   "cell_type": "markdown",
   "metadata": {},
   "source": [
    "## Python Basics  \n",
    "\n",
    "Python Version 3.7\n",
    "\n",
    "- Scripting\n",
    "- Object Oriented\n",
    "- Functional"
   ]
  },
  {
   "cell_type": "code",
   "execution_count": 5,
   "metadata": {},
   "outputs": [
    {
     "name": "stdout",
     "output_type": "stream",
     "text": [
      "Good Afternoon  !  ||Hello Python\n"
     ]
    }
   ],
   "source": [
    "# Pyhton Comments\n",
    "\n",
    "print(\"Good Afternoon\", \" ! \", end=\" ||\") # Basic Output\n",
    "print(\"Hello Python\")"
   ]
  },
  {
   "cell_type": "code",
   "execution_count": null,
   "metadata": {},
   "outputs": [],
   "source": []
  },
  {
   "cell_type": "markdown",
   "metadata": {},
   "source": [
    "### Assignment"
   ]
  },
  {
   "cell_type": "code",
   "execution_count": 16,
   "metadata": {},
   "outputs": [
    {
     "name": "stdout",
     "output_type": "stream",
     "text": [
      "123 234 345\n"
     ]
    }
   ],
   "source": [
    "n1 = 123456 # Single Varible Assignment\n",
    "\n",
    "n2 = n3 = n4 = n1   # Multi variable Assignment of the same value \n",
    " \n",
    "a, b, c = 123, 234, 345  # Multo variable Assignment with different value\n",
    "print (a,b,c)\n",
    "\n"
   ]
  },
  {
   "cell_type": "code",
   "execution_count": null,
   "metadata": {},
   "outputs": [],
   "source": []
  },
  {
   "cell_type": "markdown",
   "metadata": {},
   "source": [
    "## Data Types\n",
    "- int\n",
    "- float\n",
    "- string\n"
   ]
  },
  {
   "cell_type": "code",
   "execution_count": 14,
   "metadata": {},
   "outputs": [
    {
     "data": {
      "text/plain": [
       "12.0"
      ]
     },
     "execution_count": 14,
     "metadata": {},
     "output_type": "execute_result"
    }
   ],
   "source": [
    "\n",
    "\n",
    "s1 = \"python\"\n",
    "type(s1)\n",
    "\n",
    "f1 = 12.345\n",
    "type(f1)\n",
    "\n",
    "int(f1)\n",
    "float(str(int(f1)))"
   ]
  },
  {
   "cell_type": "code",
   "execution_count": null,
   "metadata": {},
   "outputs": [],
   "source": []
  },
  {
   "cell_type": "markdown",
   "metadata": {},
   "source": [
    "## Arithmatic Operations\n",
    "-  +\n",
    "-  -\n",
    "- *\n",
    "- /\n",
    "- **\n",
    "- %"
   ]
  },
  {
   "cell_type": "code",
   "execution_count": null,
   "metadata": {},
   "outputs": [],
   "source": [
    "n1 % 11\n",
    "n3 = n2 ** 12345\n",
    "type(n3)\n",
    "#len(str(n3))\n",
    "\n"
   ]
  },
  {
   "cell_type": "code",
   "execution_count": 5,
   "metadata": {},
   "outputs": [
    {
     "data": {
      "text/plain": [
       "10000000000000000000000000000000000000000000000000000000000000000000000000000000000"
      ]
     },
     "execution_count": 5,
     "metadata": {},
     "output_type": "execute_result"
    }
   ],
   "source": [
    "atoms = 10 ** 82\n",
    "len(str(atoms))\n",
    "type(str(atoms))\n",
    "atoms"
   ]
  },
  {
   "cell_type": "code",
   "execution_count": null,
   "metadata": {},
   "outputs": [],
   "source": []
  },
  {
   "cell_type": "markdown",
   "metadata": {},
   "source": [
    "## Conditionals"
   ]
  },
  {
   "cell_type": "code",
   "execution_count": 21,
   "metadata": {},
   "outputs": [
    {
     "name": "stdout",
     "output_type": "stream",
     "text": [
      "FALSE\n"
     ]
    }
   ],
   "source": [
    "if atoms < 10 ** 9:\n",
    "    print (\"TRUE\")\n",
    "else:\n",
    "    print(\"FALSE\")"
   ]
  },
  {
   "cell_type": "code",
   "execution_count": 23,
   "metadata": {},
   "outputs": [
    {
     "name": "stdout",
     "output_type": "stream",
     "text": [
      "Even\n"
     ]
    }
   ],
   "source": [
    "# Check if a number is Even\n",
    "n = 12\n",
    "if n % 2 ==0:\n",
    "    print (\"Even\")\n",
    "else:\n",
    "    print(\"odd\")"
   ]
  },
  {
   "cell_type": "code",
   "execution_count": 25,
   "metadata": {},
   "outputs": [
    {
     "name": "stdout",
     "output_type": "stream",
     "text": [
      "even\n"
     ]
    }
   ],
   "source": [
    "n = 6\n",
    "if n % 2!=0:\n",
    "    print (\"odd\")\n",
    "else:\n",
    "    print(\"even\")"
   ]
  },
  {
   "cell_type": "code",
   "execution_count": 32,
   "metadata": {},
   "outputs": [
    {
     "name": "stdout",
     "output_type": "stream",
     "text": [
      "Enter the first number-1\n",
      "Enter the second number-100\n",
      "Enter the third number-50\n",
      "-1 is the greatest\n"
     ]
    }
   ],
   "source": [
    "# find the greatest of three numbers\n",
    "n1 = int(input(\"Enter the first number\"))\n",
    "n2 = int(input(\"Enter the second number\"))\n",
    "n3 = int(input(\"Enter the third number\"))\n",
    "if n1 > n2 and n1 > n3:\n",
    "    print(n1, \"is the greatest\")\n",
    "elif n2 > n3:\n",
    "    print(n2, \"is the greatest\")\n",
    "else:\n",
    "    print(n3, \"is greatest\")"
   ]
  },
  {
   "cell_type": "code",
   "execution_count": null,
   "metadata": {},
   "outputs": [],
   "source": [
    "#to Check if given year is a leap year or not\n"
   ]
  },
  {
   "cell_type": "code",
   "execution_count": 5,
   "metadata": {},
   "outputs": [
    {
     "name": "stdout",
     "output_type": "stream",
     "text": [
      "enter year to be checked2019\n",
      "the is not a leap year\n"
     ]
    }
   ],
   "source": [
    "year = int(input(\"enter year to be checked\"))\n",
    "if(year%4==0 and year%100!=0 or year%400==0):\n",
    "    print(\"the year is a leap year\")\n",
    "else:\n",
    "    print(\"the is not a leap year\")\n"
   ]
  },
  {
   "cell_type": "code",
   "execution_count": 7,
   "metadata": {},
   "outputs": [
    {
     "name": "stdout",
     "output_type": "stream",
     "text": [
      "6\n"
     ]
    }
   ],
   "source": [
    "#  count the Number of digits in a given number\n",
    "n1=123456\n",
    "print(len(str(n1)))"
   ]
  },
  {
   "cell_type": "code",
   "execution_count": 9,
   "metadata": {},
   "outputs": [
    {
     "name": "stdout",
     "output_type": "stream",
     "text": [
      "60 does not exist in the given range\n"
     ]
    }
   ],
   "source": [
    "n1 = 60\n",
    "lb = 50\n",
    "ub = 30\n",
    "if n1 >= lb and n1<= ub:\n",
    "    print(\"number exist in the given range\")\n",
    "else:\n",
    "    print(n1,\"does not exist in the given range\")"
   ]
  },
  {
   "cell_type": "code",
   "execution_count": 15,
   "metadata": {},
   "outputs": [
    {
     "name": "stdout",
     "output_type": "stream",
     "text": [
      "12345 is not equal to pyhton\n"
     ]
    }
   ],
   "source": [
    "# Check if given string is equal to a number\n",
    "s1 = \"pyhton\"\n",
    "n1 = 12345\n",
    "if(str(n1)) == s1:\n",
    "    print(n1, \"is equal to\", s1)\n",
    "else:\n",
    "    print(n1, \"is not equal to\", s1)"
   ]
  },
  {
   "cell_type": "code",
   "execution_count": 18,
   "metadata": {},
   "outputs": [
    {
     "name": "stdout",
     "output_type": "stream",
     "text": [
      "31536000000000000\n"
     ]
    }
   ],
   "source": [
    "# Calculate the number of nano seconds in a given year (considering leap year logic)\n",
    "year = 2019\n",
    "if(year%4==0 and year%100!=0 or year%400==0):\n",
    "    print(366 * 24 * 60 * 60*(10**9))\n",
    "else:\n",
    "    print(365 * 24 * 60 * 60*(10**9))"
   ]
  },
  {
   "cell_type": "code",
   "execution_count": 17,
   "metadata": {},
   "outputs": [
    {
     "data": {
      "text/plain": [
       "11.090536506409418"
      ]
     },
     "execution_count": 17,
     "metadata": {},
     "output_type": "execute_result"
    }
   ],
   "source": [
    "#Calculate the square root of a number without functions\n",
    "n1 = 123\n",
    "n1 ** 0.5"
   ]
  },
  {
   "cell_type": "code",
   "execution_count": 3,
   "metadata": {},
   "outputs": [
    {
     "name": "stdout",
     "output_type": "stream",
     "text": [
      "Enter a number12\n",
      "Not Multiple of 10\n"
     ]
    }
   ],
   "source": [
    "# Check if a number is multiple of 10\n",
    "n1 = int(input(\"Enter a number\"))\n",
    "if(n1%10==0):\n",
    "    print(\"Multiple of 10\")\n",
    "else:\n",
    "    print(\"Not Multiple of 10\")"
   ]
  },
  {
   "cell_type": "code",
   "execution_count": 5,
   "metadata": {},
   "outputs": [
    {
     "name": "stdout",
     "output_type": "stream",
     "text": [
      "Enter a number10\n",
      "Factor of 1000\n"
     ]
    }
   ],
   "source": [
    "#Check if a number is a factor of 1000\n",
    "n1 = int(input(\"Enter a number\"))\n",
    "if(1000%n1==0):\n",
    "    print(\"Factor of 1000\")\n",
    "else:\n",
    "    print(\"Not Factor of 1000\")"
   ]
  },
  {
   "cell_type": "code",
   "execution_count": null,
   "metadata": {},
   "outputs": [],
   "source": []
  }
 ],
 "metadata": {
  "kernelspec": {
   "display_name": "Python 3",
   "language": "python",
   "name": "python3"
  },
  "language_info": {
   "codemirror_mode": {
    "name": "ipython",
    "version": 3
   },
   "file_extension": ".py",
   "mimetype": "text/x-python",
   "name": "python",
   "nbconvert_exporter": "python",
   "pygments_lexer": "ipython3",
   "version": "3.7.3"
  }
 },
 "nbformat": 4,
 "nbformat_minor": 2
}
