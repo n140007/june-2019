{
 "cells": [
  {
   "cell_type": "markdown",
   "metadata": {},
   "source": [
    "### Problem Solving and Programming in Python\n",
    "\n",
    "#### Date - 14 June 2019\n",
    "\n",
    "#### Day Objective\n",
    "- Python Data Structures\n",
    "- Lists\n",
    "- Tuples\n",
    "- Dictionaries\n",
    "- Basic Problem Set on Data Structures\n",
    "- Advanced Problem Set\n",
    "- Packages and Modules in Python"
   ]
  },
  {
   "cell_type": "markdown",
   "metadata": {},
   "source": [
    "## Python Data Structures\n",
    "#### Lists\n"
   ]
  },
  {
   "cell_type": "code",
   "execution_count": 1,
   "metadata": {},
   "outputs": [
    {
     "name": "stdout",
     "output_type": "stream",
     "text": [
      "secondlargestnumberis: 456\n"
     ]
    }
   ],
   "source": [
    "list = [2, 5, 8, 4]\n",
    "list # Access the entire list\n",
    "\n",
    "list [2] # Access an element with index in a list\n",
    "\n",
    "list[2:] # Access all elemnts from second element to last element\n",
    "\n",
    "list[::-1] # Access to reverse the list but it's not change is the original list it is the copy of the original list\n",
    "\n",
    "list = list[::-1] # reversing list elements and reassigning to the original list\n",
    "list\n",
    "\n",
    "list = list[::-1] # go back to the original list\n",
    "list\n",
    "\n",
    "list[::2]\n",
    "\n",
    "list[1::2]\n",
    "\n",
    "# list can be accessed, Manipulated in two different ways \n",
    "# Direct Referencing - [ index ]\n",
    "# Indirect Referencing -  through functions\n",
    "\n",
    "list.append(345)    # Adding an element to end of the list # here append is a function it means add\n",
    "\n",
    "list\n",
    "\n",
    "list.insert(0,4)  #\n",
    "\n",
    "list\n",
    "\n",
    "list.sort() # Sort elements in ascending order\n",
    "list\n",
    "\n",
    "list.pop(1) # to remove the paricular index we want to remove in a list\n",
    "list\n",
    "\n",
    "list.pop() # remove the last element in a list\n",
    "list\n",
    "\n",
    "list.remove(5) # to temove the particular element in a lsit \n",
    "list\n",
    "\n",
    "li2 = [234, 456, 789]\n",
    "list.extend(li2) # Merge list 2 into list 1\n",
    "list\n",
    "\n",
    "sum(list) # Sum of all elements in a list\n",
    "max(list) # Maximum element in a list\n",
    "min(list) # Number of elements in a list\n",
    "len(list) # Minimum element in a list\n",
    "\n",
    "\n",
    "sum(list)/len(list) # Average of list elemets\n",
    "\n",
    "sum(list[::2])/len(list[::2])  # Average of all alternate elements\n",
    "\n",
    "sum(list[1::2])/len(list[1::2])  # Avergae of all odd elements\n",
    "\n",
    "# Function to identify the second largest element in a list\n",
    "   # Sort the data and select the second largest element\n",
    "   # Sort the data in reverse order, and select the second element\n",
    "   # Remove the max element and then get the max of the new list\n",
    "list = [ 2, 3, 4, 8, 234, 456, 789]\n",
    "list.sort()\n",
    "print(\"secondlargestnumberis:\" , list[-2])\n",
    "    "
   ]
  },
  {
   "cell_type": "code",
   "execution_count": 73,
   "metadata": {},
   "outputs": [
    {
     "data": {
      "text/plain": [
       "456"
      ]
     },
     "execution_count": 73,
     "metadata": {},
     "output_type": "execute_result"
    }
   ],
   "source": [
    "def SecondLargest(list):\n",
    "        list.sort()\n",
    "        return list[-2]\n",
    "SecondLargest(list)"
   ]
  },
  {
   "cell_type": "code",
   "execution_count": 79,
   "metadata": {},
   "outputs": [
    {
     "data": {
      "text/plain": [
       "234"
      ]
     },
     "execution_count": 79,
     "metadata": {},
     "output_type": "execute_result"
    }
   ],
   "source": [
    "# Function that returns the nth largest\n",
    "def genericLargest(list,n):\n",
    "    list.sort()\n",
    "    return list[-n]\n",
    "secondLargest(list)\n",
    "genericLargest(list, 3)"
   ]
  },
  {
   "cell_type": "code",
   "execution_count": 83,
   "metadata": {},
   "outputs": [
    {
     "data": {
      "text/plain": [
       "2"
      ]
     },
     "execution_count": 83,
     "metadata": {},
     "output_type": "execute_result"
    }
   ],
   "source": [
    "# Function to search for data in a list\n",
    "# Search for the key in the list and return the index       Retun -1 if key not found\n",
    "def linearSearch(list, key):\n",
    "    for index in range(0, len(list)):\n",
    "        if list[index]==key:\n",
    "            return index\n",
    "    return -1\n",
    "linearSearch(list, 4)\n",
    "    \n",
    "    \n",
    "    "
   ]
  },
  {
   "cell_type": "code",
   "execution_count": 86,
   "metadata": {},
   "outputs": [
    {
     "data": {
      "text/plain": [
       "-1"
      ]
     },
     "execution_count": 86,
     "metadata": {},
     "output_type": "execute_result"
    }
   ],
   "source": [
    "def linearSearch2(list, key):\n",
    "    for element in list:\n",
    "        if element==key:\n",
    "            return list.index(element)\n",
    "    return -1\n",
    "linearSearch(list, 6 )"
   ]
  },
  {
   "cell_type": "code",
   "execution_count": 90,
   "metadata": {},
   "outputs": [
    {
     "data": {
      "text/plain": [
       "-1"
      ]
     },
     "execution_count": 90,
     "metadata": {},
     "output_type": "execute_result"
    }
   ],
   "source": [
    "# Single line solution for the above problem \n",
    "def linearSearch3(list, key):\n",
    "    return key\n",
    "linearSearch(list, 10)"
   ]
  },
  {
   "cell_type": "code",
   "execution_count": 96,
   "metadata": {},
   "outputs": [
    {
     "data": {
      "text/plain": [
       "-1"
      ]
     },
     "execution_count": 96,
     "metadata": {},
     "output_type": "execute_result"
    }
   ],
   "source": [
    "def linearSearch3(li, key):\n",
    "    if key in list:\n",
    "        return list.index(key)\n",
    "    return -1\n",
    "linearSearch3(list, 700)"
   ]
  },
  {
   "cell_type": "code",
   "execution_count": 109,
   "metadata": {},
   "outputs": [
    {
     "data": {
      "text/plain": [
       "0"
      ]
     },
     "execution_count": 109,
     "metadata": {},
     "output_type": "execute_result"
    }
   ],
   "source": [
    "# Function to count the occurances of a character in a list\n",
    "# 'Python Programming', m->2\n",
    "def countCharacter(s, c):\n",
    "    count = 0\n",
    "    for ch in s:\n",
    "        if ch == c:\n",
    "            count = count + 1\n",
    "    return count\n",
    "def countCharacter2(s, c):\n",
    "    return s.count(c)\n",
    "countCharacter2(\"Python Programming\", 'py')\n",
    "    "
   ]
  },
  {
   "cell_type": "code",
   "execution_count": null,
   "metadata": {},
   "outputs": [],
   "source": [
    "# Function to find the number of occurances of a substring in \n",
    "# \" abcabcddcba\", \"ab\" -> 2"
   ]
  },
  {
   "cell_type": "code",
   "execution_count": 5,
   "metadata": {},
   "outputs": [
    {
     "data": {
      "text/plain": [
       "[1, 2, 3, 4, 5, 6]"
      ]
     },
     "execution_count": 5,
     "metadata": {},
     "output_type": "execute_result"
    }
   ],
   "source": [
    "s = ' 1 2 3 4 5 6'\n",
    "li= s.split()\n",
    "numberlist = []\n",
    "for i in li:\n",
    "    numberlist.append(int(i))\n",
    "numberlist"
   ]
  },
  {
   "cell_type": "code",
   "execution_count": null,
   "metadata": {},
   "outputs": [],
   "source": [
    "# practice test"
   ]
  },
  {
   "cell_type": "code",
   "execution_count": 8,
   "metadata": {},
   "outputs": [
    {
     "name": "stdout",
     "output_type": "stream",
     "text": [
      "3\n"
     ]
    },
    {
     "data": {
      "text/plain": [
       "14"
      ]
     },
     "execution_count": 8,
     "metadata": {},
     "output_type": "execute_result"
    }
   ],
   "source": [
    "n = int(input())\n",
    "def sumSquaresNaturalNumbers(n):\n",
    "    sum=0\n",
    "    for i in range(1, n+1):\n",
    "        sum=sum+i**2\n",
    "    return sum\n",
    "sumSquaresNaturalNumbers(n)"
   ]
  },
  {
   "cell_type": "code",
   "execution_count": 19,
   "metadata": {},
   "outputs": [
    {
     "ename": "SyntaxError",
     "evalue": "invalid syntax (<ipython-input-19-39f77379c7b8>, line 14)",
     "output_type": "error",
     "traceback": [
      "\u001b[1;36m  File \u001b[1;32m\"<ipython-input-19-39f77379c7b8>\"\u001b[1;36m, line \u001b[1;32m14\u001b[0m\n\u001b[1;33m    def closestzero(li):\u001b[0m\n\u001b[1;37m      ^\u001b[0m\n\u001b[1;31mSyntaxError\u001b[0m\u001b[1;31m:\u001b[0m invalid syntax\n"
     ]
    }
   ],
   "source": [
    "# sepearate all numbers less than zero and \n",
    "# ALL numbers greater = zero, get \n",
    "# -1 2 5 -10 -20\n",
    "# -1 -10 -20 -> -1\n",
    "# 2 5 -> 2\n",
    "# -1 2 -> count from 0 to -1, 2\n",
    "\n",
    "\n",
    "n = int(input())\n",
    "s = input()\n",
    "li = []\n",
    "for i in s.split():\n",
    "    li.append((int(i))\n",
    "def closestzero\n",
    "\n",
    "    \n",
    "              \n",
    "\n"
   ]
  },
  {
   "cell_type": "code",
   "execution_count": null,
   "metadata": {},
   "outputs": [],
   "source": [
    "def closestzero(li):\n",
    "n1 = []\n",
    "for i in li:\n",
    "    if i<0:\n",
    "        n1.append(i)\n",
    "p1 =[]\n",
    "for i in li:\n",
    "    if i>=0:\n",
    "        pi.append(i)\n",
    "nc = max(n1)\n",
    "pc = min(p1)\n",
    "if pc==0:\n",
    "    return pc\n",
    "elif abs(nc)<pc:\n",
    "     return abs(nc)\n",
    "else:\n",
    "    return pc\n",
    "closestzero(li)"
   ]
  }
 ],
 "metadata": {
  "kernelspec": {
   "display_name": "Python 3",
   "language": "python",
   "name": "python3"
  },
  "language_info": {
   "codemirror_mode": {
    "name": "ipython",
    "version": 3
   },
   "file_extension": ".py",
   "mimetype": "text/x-python",
   "name": "python",
   "nbconvert_exporter": "python",
   "pygments_lexer": "ipython3",
   "version": "3.7.3"
  }
 },
 "nbformat": 4,
 "nbformat_minor": 2
}
